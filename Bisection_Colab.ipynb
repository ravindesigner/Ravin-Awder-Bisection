{
  "nbformat": 4,
  "nbformat_minor": 0,
  "metadata": {
    "colab": {
      "provenance": [],
      "toc_visible": true,
      "include_colab_link": true
    },
    "kernelspec": {
      "name": "python3",
      "display_name": "Python 3"
    },
    "language_info": {
      "name": "python"
    }
  },
  "cells": [
    {
      "cell_type": "markdown",
      "metadata": {
        "id": "view-in-github",
        "colab_type": "text"
      },
      "source": [
        "<a href=\"https://colab.research.google.com/github/ravindesigner/Ravin-Awder-Bisection/blob/main/Bisection_Colab.ipynb\" target=\"_parent\"><img src=\"https://colab.research.google.com/assets/colab-badge.svg\" alt=\"Open In Colab\"/></a>"
      ]
    },
    {
      "cell_type": "code",
      "execution_count": null,
      "metadata": {
        "colab": {
          "base_uri": "https://localhost:8080/"
        },
        "id": "RWvKbazka5UO",
        "outputId": "5586d3d0-c812-4826-94b2-62d62302917d"
      },
      "outputs": [
        {
          "output_type": "stream",
          "name": "stdout",
          "text": [
            "Iteration 1: Approximate root = 2.5\n",
            "Iteration 2: Approximate root = 1.75\n",
            "Iteration 3: Approximate root = 2.125\n",
            "Iteration 4: Approximate root = 1.9375\n",
            "Iteration 5: Approximate root = 2.03125\n",
            "Iteration 6: Approximate root = 1.984375\n",
            "Iteration 7: Approximate root = 2.0078125\n",
            "Iteration 8: Approximate root = 1.99609375\n",
            "Iteration 9: Approximate root = 2.001953125\n",
            "Iteration 10: Approximate root = 1.9990234375\n",
            "\n",
            "Final result:\n",
            "Approximate root: 2.00048828125\n"
          ]
        }
      ],
      "source": [
        "def bisection_method(func, a, b, tolerance=1e-6, max_iterations=10):\n",
        "    if func(a) * func(b) >= 0:\n",
        "        raise ValueError(\"The function values at the interval endpoints must have opposite signs.\")\n",
        "\n",
        "    iteration = 0\n",
        "    while (b - a) / 2 > tolerance and iteration < max_iterations:\n",
        "        c = (a + b) / 2\n",
        "        if func(c) == 0:\n",
        "            break\n",
        "        elif func(c) * func(a) < 0:\n",
        "            b = c\n",
        "        else:\n",
        "            a = c\n",
        "\n",
        "        print(f\"Iteration {iteration + 1}: Approximate root = {c}\")\n",
        "        iteration += 1\n",
        "\n",
        "    root = (a + b) / 2\n",
        "    return root\n",
        "\n",
        "def f(x):\n",
        "    return x**2 - 4\n",
        "\n",
        "a = 1\n",
        "b = 4\n",
        "\n",
        "root = bisection_method(f, a, b)\n",
        "\n",
        "print(\"\\nFinal result:\")\n",
        "print(\"Approximate root:\", root)"
      ]
    }
  ]
}